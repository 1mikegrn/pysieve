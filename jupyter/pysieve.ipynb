{
  "nbformat": 4,
  "nbformat_minor": 0,
  "metadata": {
    "colab": {
      "name": "pysieve.ipynb",
      "provenance": [],
      "collapsed_sections": []
    },
    "kernelspec": {
      "name": "python3",
      "display_name": "Python 3"
    }
  },
  "cells": [
    {
      "cell_type": "code",
      "metadata": {
        "id": "siOrzWRmWbJw",
        "colab": {
          "base_uri": "https://localhost:8080/"
        },
        "outputId": "0072745c-10d2-41c6-bcf6-a0b6626acbb5"
      },
      "source": [
        "pip install git+https://github.com/1mikegrn/pysieve"
      ],
      "execution_count": null,
      "outputs": []
    },
    {
      "cell_type": "code",
      "metadata": {
        "colab": {
          "base_uri": "https://localhost:8080/"
        },
        "id": "oF9-hGJ56iyi",
        "outputId": "321fe2c2-9d45-431e-9789-451cc8a3eae2"
      },
      "source": [
        "import pysieve\n",
        "pysieve.main()"
      ],
      "execution_count": null,
      "outputs": []
    }
  ]
}