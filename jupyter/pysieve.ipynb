{
  "nbformat": 4,
  "nbformat_minor": 0,
  "metadata": {
    "colab": {
      "name": "pysieve.ipynb",
      "provenance": [],
      "collapsed_sections": []
    },
    "kernelspec": {
      "name": "python3",
      "display_name": "Python 3"
    }
  },
  "cells": [
    {
      "cell_type": "code",
      "metadata": {
        "id": "siOrzWRmWbJw",
        "colab": {
          "base_uri": "https://localhost:8080/"
        },
        "outputId": "0072745c-10d2-41c6-bcf6-a0b6626acbb5"
      },
      "source": [
        "pip install git+https://github.com/1mikegrn/pysieve"
      ],
      "execution_count": 1,
      "outputs": [
        {
          "output_type": "stream",
          "text": [
            "Collecting git+https://github.com/1mikegrn/pysieve\n",
            "  Cloning https://github.com/1mikegrn/pysieve to /tmp/pip-req-build-5reg7o0i\n",
            "  Running command git clone -q https://github.com/1mikegrn/pysieve /tmp/pip-req-build-5reg7o0i\n",
            "Requirement already satisfied (use --upgrade to upgrade): pysieve==0.0.0 from git+https://github.com/1mikegrn/pysieve in /usr/local/lib/python3.7/dist-packages\n",
            "Building wheels for collected packages: pysieve\n",
            "  Building wheel for pysieve (setup.py) ... \u001b[?25l\u001b[?25hdone\n",
            "  Created wheel for pysieve: filename=pysieve-0.0.0-cp37-cp37m-linux_x86_64.whl size=17182 sha256=6aa657b85a94ceb32c0f2cd9c6be0cf737021efff3d8168c2ff345096ea783cd\n",
            "  Stored in directory: /tmp/pip-ephem-wheel-cache-iv2lk8s4/wheels/e0/17/74/77e7a073de42e6e2a279c033776778963bbbe70f1abb1d0a5f\n",
            "Successfully built pysieve\n"
          ],
          "name": "stdout"
        }
      ]
    },
    {
      "cell_type": "code",
      "metadata": {
        "colab": {
          "base_uri": "https://localhost:8080/"
        },
        "id": "oF9-hGJ56iyi",
        "outputId": "321fe2c2-9d45-431e-9789-451cc8a3eae2"
      },
      "source": [
        "import pysieve\n",
        "pysieve.main()"
      ],
      "execution_count": 3,
      "outputs": [
        {
          "output_type": "stream",
          "text": [
            "Passes: 782, Time: 5.001505136489868, Avg: 0.006395786619552261, Limit: 1000000, Count: 78498, Valid: True\n"
          ],
          "name": "stdout"
        }
      ]
    }
  ]
}